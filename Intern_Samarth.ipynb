{
  "nbformat": 4,
  "nbformat_minor": 0,
  "metadata": {
    "colab": {
      "name": "Untitled0.ipynb",
      "provenance": [],
      "collapsed_sections": [],
      "authorship_tag": "ABX9TyMFeUf+44Q/7M3aLN3YLHGb",
      "include_colab_link": true
    },
    "kernelspec": {
      "name": "python3",
      "display_name": "Python 3"
    }
  },
  "cells": [
    {
      "cell_type": "markdown",
      "metadata": {
        "id": "view-in-github",
        "colab_type": "text"
      },
      "source": [
        "<a href=\"https://colab.research.google.com/github/K-S-Samarth-Rao/InternshipStudio/blob/master/Intern_Samarth.ipynb\" target=\"_parent\"><img src=\"https://colab.research.google.com/assets/colab-badge.svg\" alt=\"Open In Colab\"/></a>"
      ]
    },
    {
      "cell_type": "markdown",
      "metadata": {
        "id": "24C3tvKwtk--",
        "colab_type": "text"
      },
      "source": [
        " **CONTEXT** **:** The bank has a growing customer base. The bank wants to increase borrowers (asset customers) base to bring in more  loan business and earn more through the interest on loans. So , the bank wants to convert the liability based customers to personal loan customers. (while retaining them as depositors). A campaign that the bank ran last year for liability customers showed a healthy conversion rate of over 9% success. The department wants you to build a model that will help them identify the potential customers who have a higher probability of purchasing the loan. This will increase the success ratio while at the same time reduce the cost of the campaign.\n"
      ]
    },
    {
      "cell_type": "markdown",
      "metadata": {
        "id": "zA9mrA_VVGB3",
        "colab_type": "text"
      },
      "source": [
        "**Objective :** The classification goal is to predict the likelihood of a liability customer buying personal\n",
        "loans.\n"
      ]
    },
    {
      "cell_type": "markdown",
      "metadata": {
        "id": "OP2hdnP2kFIO",
        "colab_type": "text"
      },
      "source": [
        "\n",
        "\n",
        "##                   **1.1 Importing the Required Libraries and Datasets** \n",
        "\n",
        "\n",
        "\n"
      ]
    },
    {
      "cell_type": "code",
      "metadata": {
        "id": "wBFF2hl1SkLi",
        "colab_type": "code",
        "colab": {}
      },
      "source": [
        "import io                                                                            # For Stream Handling\n",
        "import numpy as np                                                                   # For Linear Algebra\n",
        "import pandas as pd                                                                  # For Data Processing\n",
        "import seaborn as sns                                                                # For Informative Plots\n",
        "import matplotlib.pyplot as plt                                                      # For Plots\n",
        "%matplotlib inline\n",
        "sns.set(color_codes=True)\n",
        "from scipy.stats import zscore\n",
        "from sklearn.linear_model import LogisticRegression\n",
        "from sklearn.linear_model import LinearRegression\n",
        "from sklearn import svm\n",
        "from sklearn.naive_bayes import BernoulliNB\n",
        "from sklearn.naive_bayes import GaussianNB\n",
        "from sklearn.neighbors import KNeighborsClassifier\n",
        "from sklearn import metrics\n",
        "from sklearn.model_selection import cross_val_score\n",
        "from sklearn.utils import resample\n",
        "from sklearn.model_selection import KFold\n",
        "from sklearn.model_selection import GridSearchCV\n",
        "from sklearn.model_selection import train_test_split\n",
        "from sklearn import tree\n",
        "from sklearn.tree import DecisionTreeClassifier\n",
        "from sklearn.ensemble import BaggingClassifier\n",
        "from sklearn.ensemble import RandomForestClassifier\n",
        "from sklearn.feature_extraction.text import CountVectorizer\n",
        "from statsmodels.stats.outliers_influence import variance_inflation_factor\n",
        "from google.colab import files                                                       # Uploading the file containing the Data.\n",
        "uploaded = files.upload()               \n",
        "data = pd.read_excel('/content/Bank_Personal_Loan_Modelling.xlsx','Data')        # Reading/Accessing the Data"
      ],
      "execution_count": null,
      "outputs": []
    },
    {
      "cell_type": "markdown",
      "metadata": {
        "id": "_Gc25HoriyLp",
        "colab_type": "text"
      },
      "source": [
        "### **1.2 Preview of First 5 Rows**"
      ]
    },
    {
      "cell_type": "code",
      "metadata": {
        "id": "GqC-cB1Bd4wg",
        "colab_type": "code",
        "colab": {}
      },
      "source": [
        "data.head(5)"
      ],
      "execution_count": null,
      "outputs": []
    },
    {
      "cell_type": "markdown",
      "metadata": {
        "id": "7eEJYS0Qz7z7",
        "colab_type": "text"
      },
      "source": [
        "### **1.3 Preview of Last 5 Rows**"
      ]
    },
    {
      "cell_type": "code",
      "metadata": {
        "id": "7h5QESm0rYCb",
        "colab_type": "code",
        "colab": {}
      },
      "source": [
        "data.tail(5)"
      ],
      "execution_count": null,
      "outputs": []
    },
    {
      "cell_type": "markdown",
      "metadata": {
        "id": "HereU2o6107S",
        "colab_type": "text"
      },
      "source": [
        "### **1.4 Shape of the Dataset**"
      ]
    },
    {
      "cell_type": "code",
      "metadata": {
        "id": "61ktNZmGrvYp",
        "colab_type": "code",
        "colab": {}
      },
      "source": [
        "print(data.shape)                                         # Size of the Dataset i.e. (Rows,Columns)\n",
        "print(data.shape[1])                                      # Number of Features in the Dataset\n",
        "print(data.shape[0])                                      # Number of Samples in the Dataset"
      ],
      "execution_count": null,
      "outputs": []
    },
    {
      "cell_type": "markdown",
      "metadata": {
        "id": "e75IGyLG2XHW",
        "colab_type": "text"
      },
      "source": [
        "### **1.5 Various Features of the Dataset**"
      ]
    },
    {
      "cell_type": "code",
      "metadata": {
        "id": "uF8cDzvGrkLr",
        "colab_type": "code",
        "colab": {}
      },
      "source": [
        "data.columns"
      ],
      "execution_count": null,
      "outputs": []
    },
    {
      "cell_type": "markdown",
      "metadata": {
        "id": "3ntJujmy22HZ",
        "colab_type": "text"
      },
      "source": [
        "### **1.6 Details on the Features of the Dataset**\n",
        "1) ID: Customer ID.\n",
        "\n",
        "2) Age: Customer's age in completed years.\n",
        "\n",
        "3) Experience: Years of professional experience.\n",
        "\n",
        "4) Income: Annual income of the customer.\n",
        "\n",
        "5) ZIP Code: Home Address.\n",
        "\n",
        "6) Family: Family size of the customer\n",
        "\n",
        "7) CCAvg: Avg. spending on credit cards per month ($) \n",
        "\n",
        "8) Education : Education Level--> 1:Undergraduate 2:Graduate                    3:Advanced/          Professional\n",
        "\n",
        "9) Mortgage: Value of house mortgage if any. ($)\n",
        "\n",
        "10) Personal Loan: Did this customer accept the personal loan offered in the last campaign?\n",
        "\n",
        "11) Securities Account: Does the customer have a securities account with the bank?\n",
        "\n",
        "12) CD Account: Does the customer have a certificate of deposit (CD) account with\n",
        "the bank?\n",
        "\n",
        "13) Online: Does the customer use internet banking facilities?\n",
        "\n",
        "14) Credit card: Does the customer use a credit card issued by the bank?"
      ]
    },
    {
      "cell_type": "markdown",
      "metadata": {
        "id": "krM-TZMySz7_",
        "colab_type": "text"
      },
      "source": [
        "### **1.7 Checking the DataTypes of Fields and non null count**"
      ]
    },
    {
      "cell_type": "code",
      "metadata": {
        "id": "Pk0XI6SVPvBk",
        "colab_type": "code",
        "colab": {}
      },
      "source": [
        "data.info()                   # We observe that there are no null values in any of the feature. Moreover all Fields are Numerical in Datatype"
      ],
      "execution_count": null,
      "outputs": []
    },
    {
      "cell_type": "markdown",
      "metadata": {
        "id": "bRbZmqgkUy3S",
        "colab_type": "text"
      },
      "source": [
        "### **1.8 Statistical Information**"
      ]
    },
    {
      "cell_type": "code",
      "metadata": {
        "id": "Om4t1usnTqX9",
        "colab_type": "code",
        "colab": {}
      },
      "source": [
        "data.describe().T  # We observe that the minimum experience is negative which is impossible. The rest looks fine"
      ],
      "execution_count": null,
      "outputs": []
    },
    {
      "cell_type": "markdown",
      "metadata": {
        "id": "_xmsm4tLI8PS",
        "colab_type": "text"
      },
      "source": [
        "Here , \n",
        "\n",
        "1) Ordinal Categorical Variables are : Family , Education .\n",
        "\n",
        "2) The Nominal Variables are : ID , ZIP Code .\n",
        "\n",
        "3) Internal Variables are : Age , Experience , Income , CCAvg , Mortage ."
      ]
    },
    {
      "cell_type": "markdown",
      "metadata": {
        "id": "ptx5uTm-xbml",
        "colab_type": "text"
      },
      "source": [
        "### **2.1 Cleaning the Data**"
      ]
    },
    {
      "cell_type": "code",
      "metadata": {
        "id": "Y-IcHP7hxaHb",
        "colab_type": "code",
        "colab": {}
      },
      "source": [
        "data[data['Experience']<0]['Experience'].count()  # We find there are 52 entires (approx. 1% ) in 'Experience' having negative values. These need to be fixed."
      ],
      "execution_count": null,
      "outputs": []
    },
    {
      "cell_type": "markdown",
      "metadata": {
        "id": "1r_WlX87bnI2",
        "colab_type": "text"
      },
      "source": [
        "### **2.2 Finding any relation(if exists) among the Fields**"
      ]
    },
    {
      "cell_type": "code",
      "metadata": {
        "id": "GS5iTZ4GaW_o",
        "colab_type": "code",
        "colab": {}
      },
      "source": [
        "sns.pairplot(data.iloc[:,1:])"
      ],
      "execution_count": null,
      "outputs": []
    },
    {
      "cell_type": "markdown",
      "metadata": {
        "id": "7MoglXn_b4LN",
        "colab_type": "text"
      },
      "source": [
        "From the plots its clear that the field Age and Experience form a good pair . They seem to have a strong linear relationship between them.(This relation can help us in refilling the faulty negative Experience values).\n",
        "\n",
        "Other interesting relationships to be noted are between Income & CCAvg and Income & Mortgage. \n",
        "\n",
        "The Scatterplots clearly tell us that CCAvg and Mortgage values are lesser than the income."
      ]
    },
    {
      "cell_type": "markdown",
      "metadata": {
        "id": "MAGB2MNPiPkL",
        "colab_type": "text"
      },
      "source": [
        "### **3.1 Finding Unique Data** "
      ]
    },
    {
      "cell_type": "code",
      "metadata": {
        "id": "zkgc2F2ZbgzW",
        "colab_type": "code",
        "colab": {}
      },
      "source": [
        "data.apply(lambda x: len(x.unique()))"
      ],
      "execution_count": null,
      "outputs": []
    },
    {
      "cell_type": "markdown",
      "metadata": {
        "id": "Z0MnzjtOjRTY",
        "colab_type": "text"
      },
      "source": [
        "### **3.2 Inference from the plots of '2.2'**\n",
        "**Age** - This feature is normally distributed with the majority of customers falling between 30 years and 60 years of age. We can confirm this by looking at the describe statement above , which tells that the **Mean** and the **Median** are almost equal.\n",
        "\n",
        "**Experience** - This feature is normally distributed with more customers having experience starting from 8 years. Here the **Mean** and the **Median** are equal. There are negative values in Experience, which is a faulty input.\n",
        "\n",
        "**Income** - This feature is skewed positively. Majority of the customers have income between 45K and 55K as the **Mean** is greater than the **Median**.\n",
        "\n",
        "**CCAvg** - This feature is also skewed positively. Here the average spending is between 0K to 10K and majority of them spend less than 2.5K .\n",
        "\n",
        "**Mortage** - In this feature , 70% of the customers have a mortage of less than 40K .However ,the max value is 635K ."
      ]
    },
    {
      "cell_type": "code",
      "metadata": {
        "id": "L8kwOVnhKOOb",
        "colab_type": "code",
        "colab": {}
      },
      "source": [
        "# Applying Categorical Feature. Here , Features having less than 25 values are considered as categorical\n",
        "cat_features = [feature for feature in data.columns if data[feature].nunique()<25]\n",
        "print('Categorical Features are : ' , cat_features)\n",
        "data[cat_features].head()\n"
      ],
      "execution_count": null,
      "outputs": []
    },
    {
      "cell_type": "code",
      "metadata": {
        "id": "XTTQJM_IgP9s",
        "colab_type": "code",
        "colab": {}
      },
      "source": [
        "# Applying Continuous Feature\n",
        "cont_features = [feature for feature in data.columns if feature not in cat_features + ['ID']]\n",
        "cont_features"
      ],
      "execution_count": null,
      "outputs": []
    },
    {
      "cell_type": "markdown",
      "metadata": {
        "id": "nPxV1CHFgwuY",
        "colab_type": "text"
      },
      "source": [
        "### **3.3 Understanding the distribution of each Categorical Feature**"
      ]
    },
    {
      "cell_type": "code",
      "metadata": {
        "id": "lwcyIqQghATI",
        "colab_type": "code",
        "colab": {}
      },
      "source": [
        "for feature in cat_features:\n",
        "    sns.countplot(data[feature])\n",
        "    plt.show()"
      ],
      "execution_count": null,
      "outputs": []
    },
    {
      "cell_type": "markdown",
      "metadata": {
        "id": "LiyZIm0NinnZ",
        "colab_type": "text"
      },
      "source": [
        "**1)** We observe here that the number of customers who took loan last year(our target variable) were very less(<500) compared to the set of customers who haven't taken the loan(>4500). The Dataset is highly imbalanced.\n",
        "\n",
        "**2)** Very few customers have Securities account or CD account (<500).\n",
        "\n",
        "**3)** Majority of the customers do not own Credit Cards as well (<3500)."
      ]
    },
    {
      "cell_type": "markdown",
      "metadata": {
        "id": "rTcQ7TZPkKEM",
        "colab_type": "text"
      },
      "source": [
        "### **3.4 Understanding the distribution of each Continuous Feature**"
      ]
    },
    {
      "cell_type": "code",
      "metadata": {
        "id": "c7Pe3rioj5hn",
        "colab_type": "code",
        "colab": {}
      },
      "source": [
        "for feature in cont_features :\n",
        "    fig, (ax1,ax2) = plt.subplots(1,2,figsize=(12,5))\n",
        "    sns.distplot(data[feature], kde=False,ax=ax1)\n",
        "    sns.boxplot(data[feature], ax=ax2)\n",
        "    plt.show()"
      ],
      "execution_count": null,
      "outputs": []
    },
    {
      "cell_type": "markdown",
      "metadata": {
        "id": "HTiwXrBwlqwF",
        "colab_type": "text"
      },
      "source": [
        "The Observations are :-\n",
        "\n",
        "**1)** Income and CCAvg are positively skewed distribution with some outliers towards the higher end.Hence probability for it being incorrect is less as there are very few people with outstanding salaries.\n",
        "\n",
        "**2)** Mortage is also having some outliers towards the higher end. It can be seen from describe function that 75% of customers had Mortage value less than 101 indicating the high peak on the distribution plot, even though maximum was 635. Similar to above , probability for it being incorrect is less.\n",
        "\n",
        "**3)** Majority of people are aged between 35 to 55 with experience between 10 to 30 .They have an evident relationship."
      ]
    },
    {
      "cell_type": "markdown",
      "metadata": {
        "id": "qI6RXnZGnob3",
        "colab_type": "text"
      },
      "source": [
        "### **3.5 Variation of CCAvg with Income**"
      ]
    },
    {
      "cell_type": "code",
      "metadata": {
        "id": "p4FPXnaVoFFk",
        "colab_type": "code",
        "colab": {}
      },
      "source": [
        "sns.scatterplot(x='Income' , y='CCAvg',hue='Personal Loan' ,data=data)"
      ],
      "execution_count": null,
      "outputs": []
    },
    {
      "cell_type": "code",
      "metadata": {
        "id": "kD-ltkdWoMcL",
        "colab_type": "code",
        "colab": {}
      },
      "source": [
        "plt.figure(figsize=(15,8))\n",
        "sns.pointplot(x='Income',y='CCAvg', data=data, estimator=np.median,ci=None)"
      ],
      "execution_count": null,
      "outputs": []
    },
    {
      "cell_type": "markdown",
      "metadata": {
        "id": "WWSG8WWjs4Od",
        "colab_type": "text"
      },
      "source": [
        "The Observations are :-\n",
        "\n",
        "**1)** People having more income tend to spend more on their credit card.\n",
        "\n",
        "**2)** From the 1st figure it is clear that people with higher income opted for Personal Loan.\n",
        "\n",
        "**3)** People dont tend to spend more on credit card than their income (scatterplot triangular)."
      ]
    },
    {
      "cell_type": "markdown",
      "metadata": {
        "id": "8NVqdzDkUgXD",
        "colab_type": "text"
      },
      "source": [
        "### **3.6 Variation of Income with Education and Experience**"
      ]
    },
    {
      "cell_type": "code",
      "metadata": {
        "id": "pxD3kQyMttQ9",
        "colab_type": "code",
        "colab": {}
      },
      "source": [
        "sns.boxplot(x='Education',y='Income', hue='Personal Loan',data=data)"
      ],
      "execution_count": null,
      "outputs": []
    },
    {
      "cell_type": "code",
      "metadata": {
        "id": "kqop41dNVV7c",
        "colab_type": "code",
        "colab": {}
      },
      "source": [
        "plt.figure(figsize=(15,8))\n",
        "sns.boxplot(x='Experience',y='Income',hue='Personal Loan',data=data)"
      ],
      "execution_count": null,
      "outputs": []
    },
    {
      "cell_type": "markdown",
      "metadata": {
        "id": "UGcfv4XQVzE-",
        "colab_type": "text"
      },
      "source": [
        "We observe an interesting thing that people with lower education are earning more income. And Income doesn't vary based on Experience. Also,Personal Loan is independent of Education and Experience.\n",
        "\n",
        "Personal Loan is dependent on the income though.It is evident from the higher band boxplots for Personal Loan that people with higher income tend to opt for Personal Loan.\n",
        "\n",
        "From the Zip Code boxplot, there is an outlier. "
      ]
    },
    {
      "cell_type": "markdown",
      "metadata": {
        "id": "LTUD9aNkXHFh",
        "colab_type": "text"
      },
      "source": [
        "### **3.7 Checking for unique Zip Code entries**"
      ]
    },
    {
      "cell_type": "code",
      "metadata": {
        "id": "MqFrXTAqW9b4",
        "colab_type": "code",
        "colab": {}
      },
      "source": [
        "print(data['ZIP Code'].min())\n",
        "print(data['ZIP Code'].max())\n",
        "data['ZIP Code'].unique()"
      ],
      "execution_count": null,
      "outputs": []
    },
    {
      "cell_type": "markdown",
      "metadata": {
        "id": "_Mx_akzWnwgo",
        "colab_type": "text"
      },
      "source": [
        "One Zipcode has just 4 digits which is a faulty input. We shall change it to 5 digits by appending a '0' to maintain the geographic area of atleast first 4 digits."
      ]
    },
    {
      "cell_type": "markdown",
      "metadata": {
        "id": "WzL34D1jf1FA",
        "colab_type": "text"
      },
      "source": [
        "### **3.8 Influence of Securities Account ,Family Size,CD Account on Personal Loan**"
      ]
    },
    {
      "cell_type": "code",
      "metadata": {
        "id": "Wu3L_ZEghqrU",
        "colab_type": "code",
        "colab": {}
      },
      "source": [
        "sns.countplot(x=\"Securities Account\",data=data,hue=\"Personal Loan\")"
      ],
      "execution_count": null,
      "outputs": []
    },
    {
      "cell_type": "markdown",
      "metadata": {
        "id": "9PEDCR_dibwc",
        "colab_type": "text"
      },
      "source": [
        "We observe that Majority of customers who dont have loan have Securities account."
      ]
    },
    {
      "cell_type": "code",
      "metadata": {
        "id": "FNwsEH6wirMY",
        "colab_type": "code",
        "colab": {}
      },
      "source": [
        "sns.countplot(x='Family', data=data,hue='Personal Loan',palette='Set1')"
      ],
      "execution_count": null,
      "outputs": []
    },
    {
      "cell_type": "markdown",
      "metadata": {
        "id": "lI-kjLfyjEKi",
        "colab_type": "text"
      },
      "source": [
        "We observe that family size doesn't have any impact on Personal Loan.But we find that families with size of 3 are more likely to take Loan.\n"
      ]
    },
    {
      "cell_type": "code",
      "metadata": {
        "id": "AeZhSYDDjlfL",
        "colab_type": "code",
        "colab": {}
      },
      "source": [
        "sns.countplot(x='CD Account',data=data,hue='Personal Loan')"
      ],
      "execution_count": null,
      "outputs": []
    },
    {
      "cell_type": "markdown",
      "metadata": {
        "id": "vhD1g_UajwVc",
        "colab_type": "text"
      },
      "source": [
        "We observe that majority of Customers who does not possess CD Account , do not possess any Loan as well. And, almost all customers having CD Account have Loan."
      ]
    },
    {
      "cell_type": "markdown",
      "metadata": {
        "id": "mzBRPxCPZNDf",
        "colab_type": "text"
      },
      "source": [
        "### **3.9 Heatmap for further analysis**"
      ]
    },
    {
      "cell_type": "code",
      "metadata": {
        "id": "7QG5B708lvw6",
        "colab_type": "code",
        "colab": {}
      },
      "source": [
        "plt.figure(figsize=(16,8))\n",
        "sns.heatmap(data.corr(),annot = True)\n"
      ],
      "execution_count": null,
      "outputs": []
    },
    {
      "cell_type": "markdown",
      "metadata": {
        "id": "aTdLlAvzmalA",
        "colab_type": "text"
      },
      "source": [
        "From the Heatmap, we observe:-\n",
        "\n",
        "1) Age and Experience are highly corelated(0.99).\n",
        "\n",
        "2) CCAvg and Income are correlated.\n",
        "\n",
        "3) Income and Personal Loan are correlated."
      ]
    },
    {
      "cell_type": "markdown",
      "metadata": {
        "id": "Kppo9FKSnrDp",
        "colab_type": "text"
      },
      "source": [
        "### **3.10** Checking relation between Mortgage and Credit-Card"
      ]
    },
    {
      "cell_type": "code",
      "metadata": {
        "id": "gwqZ_EXAmZsP",
        "colab_type": "code",
        "colab": {}
      },
      "source": [
        "print('Number of customers with No House Mortgage :',data[data['Mortgage']==0].shape[0],' out of', data.shape[0])\n",
        "print('Number of customers with No spending on credit card :',data[data['CCAvg']==0].shape[0], 'out of' , data.shape[0])"
      ],
      "execution_count": null,
      "outputs": []
    },
    {
      "cell_type": "markdown",
      "metadata": {
        "id": "VoY1DTvepgF9",
        "colab_type": "text"
      },
      "source": [
        "We observe some mistake here. Because, we saw earlier that the number of customers who did not use credit card was higher(>3500).But the CCAvg says only 106 customers did not have spendings on credit card.\n",
        "\n",
        "CCAvg is right (from Heatmap) , hence reset the values of credit card."
      ]
    },
    {
      "cell_type": "markdown",
      "metadata": {
        "id": "3S82wpK02yFC",
        "colab_type": "text"
      },
      "source": [
        "### **4.1 Applying necessary transformation to required features**"
      ]
    },
    {
      "cell_type": "code",
      "metadata": {
        "id": "wxbn2ji0qPb3",
        "colab_type": "code",
        "colab": {}
      },
      "source": [
        "# If CCAvg > 0 then, set the Credit Card as 1 else 0\n",
        "data['CreditCard']=np.where(data['CCAvg']>0 ,1,0)"
      ],
      "execution_count": null,
      "outputs": []
    },
    {
      "cell_type": "markdown",
      "metadata": {
        "id": "bX3qPLQQz8Jb",
        "colab_type": "text"
      },
      "source": [
        "### **4.2 Correcting the faulty ZIP Code entry**"
      ]
    },
    {
      "cell_type": "code",
      "metadata": {
        "id": "keZ0LjfYR70W",
        "colab_type": "code",
        "colab": {}
      },
      "source": [
        "data['ZIP Code']= data['ZIP Code'].apply(lambda zip:zip*10 if zip<10000 else zip)"
      ],
      "execution_count": null,
      "outputs": []
    },
    {
      "cell_type": "code",
      "metadata": {
        "id": "Enc9_svwzcva",
        "colab_type": "code",
        "colab": {}
      },
      "source": [
        "sns.boxplot(data['ZIP Code'])                # Analysing the Corrected ZIP Code"
      ],
      "execution_count": null,
      "outputs": []
    },
    {
      "cell_type": "markdown",
      "metadata": {
        "id": "HteY_2GO0HMl",
        "colab_type": "text"
      },
      "source": [
        "### **4.3 Correcting the Negative Experience Values**"
      ]
    },
    {
      "cell_type": "code",
      "metadata": {
        "id": "Ixkxv2T-rMdh",
        "colab_type": "code",
        "colab": {}
      },
      "source": [
        "print('Number of rows with Negative Experience : ' , sum(data['Experience']<0))\n",
        "print('Ages of rows with Negative Experience : ',data[data['Experience']<0].Age.unique())"
      ],
      "execution_count": null,
      "outputs": []
    },
    {
      "cell_type": "code",
      "metadata": {
        "id": "VoSds00JrZK_",
        "colab_type": "code",
        "colab": {}
      },
      "source": [
        "sns.lmplot('Age','Experience',data=data[data['Experience']>0])"
      ],
      "execution_count": null,
      "outputs": []
    },
    {
      "cell_type": "markdown",
      "metadata": {
        "id": "yCpFr4UU0Obm",
        "colab_type": "text"
      },
      "source": [
        "Since , there exists a strong Linear relationship between Experience and Age.Let's use a Linear model to predict the values of Negative Experience using Age."
      ]
    },
    {
      "cell_type": "code",
      "metadata": {
        "id": "sunhLb94zLKe",
        "colab_type": "code",
        "colab": {}
      },
      "source": [
        "lr_model = LinearRegression()\n",
        "lr_model.fit(data[['Age']],data['Experience'])\n",
        "data.loc[data['Experience']<0,'Experience']=lr_model.predict(data[data['Experience']<0].loc[:,'Age':'Age'])"
      ],
      "execution_count": null,
      "outputs": []
    },
    {
      "cell_type": "code",
      "metadata": {
        "id": "silXaq13zpCI",
        "colab_type": "code",
        "colab": {}
      },
      "source": [
        "print('Number of rows with Negative Experience : ' , sum(data['Experience']<0))\n",
        "print('Ages of rows with Negative Experience : ',data[data['Experience']<0].Age.unique())"
      ],
      "execution_count": null,
      "outputs": []
    },
    {
      "cell_type": "markdown",
      "metadata": {
        "id": "1V__goY91Laz",
        "colab_type": "text"
      },
      "source": [
        "The faulty negative values are corrected by predictions from the model. We will not be able to compute Experience for people with Age <= 25 using the model as it will predict negative values.\n",
        "\n",
        "Let us replace the leftover negative Experience values by 0 to maintain the relationship."
      ]
    },
    {
      "cell_type": "code",
      "metadata": {
        "id": "0B0S88jy_NZO",
        "colab_type": "code",
        "colab": {}
      },
      "source": [
        "data.loc[data['Experience']<0,'Experience']=0\n",
        "data[data['Experience']<0]"
      ],
      "execution_count": null,
      "outputs": []
    },
    {
      "cell_type": "code",
      "metadata": {
        "id": "ITyy2rsI_cwe",
        "colab_type": "code",
        "colab": {}
      },
      "source": [
        "sns.scatterplot(data['Age'],data['Experience'])"
      ],
      "execution_count": null,
      "outputs": []
    },
    {
      "cell_type": "markdown",
      "metadata": {
        "id": "NVCeXbfk4H4b",
        "colab_type": "text"
      },
      "source": [
        "### **4.4 Dropping the Noisy Features**"
      ]
    },
    {
      "cell_type": "code",
      "metadata": {
        "id": "bzVk5aH9rHQV",
        "colab_type": "code",
        "colab": {}
      },
      "source": [
        "X = data.drop(['ID','Age','ZIP Code','Personal Loan','CreditCard'], axis= 1)\n",
        "y=data['Personal Loan']\n",
        "X"
      ],
      "execution_count": null,
      "outputs": []
    },
    {
      "cell_type": "markdown",
      "metadata": {
        "id": "4oiUDra28xcO",
        "colab_type": "text"
      },
      "source": [
        "The above Features have high Correlation (VIF values)."
      ]
    },
    {
      "cell_type": "markdown",
      "metadata": {
        "id": "FwR9XBdb6je5",
        "colab_type": "text"
      },
      "source": [
        "### **5.1  Splitting the data into Training and Testing set in the ratio of 70:30  respectively.**"
      ]
    },
    {
      "cell_type": "code",
      "metadata": {
        "id": "d3XNQp6UaE5r",
        "colab_type": "code",
        "colab": {}
      },
      "source": [
        "train_set, test_set= train_test_split(data.drop(['ID','Experience'],axis=1),test_size=0.3,random_state=100)"
      ],
      "execution_count": null,
      "outputs": []
    },
    {
      "cell_type": "markdown",
      "metadata": {
        "id": "LO7qGqad7D0K",
        "colab_type": "text"
      },
      "source": [
        "ID doesnt help in giving any info about customers buying Personal Loan.\n",
        "\n",
        "Experience and Age are highly related . Hence Age alone is enough."
      ]
    },
    {
      "cell_type": "code",
      "metadata": {
        "id": "1NNMvaP4t-PK",
        "colab_type": "code",
        "colab": {}
      },
      "source": [
        "train_labels = train_set.pop('Personal Loan')\n",
        "test_labels =test_set.pop('Personal Loan')"
      ],
      "execution_count": null,
      "outputs": []
    },
    {
      "cell_type": "markdown",
      "metadata": {
        "id": "4VHux2889tKg",
        "colab_type": "text"
      },
      "source": [
        "### **Decision Tree Classifier**"
      ]
    },
    {
      "cell_type": "code",
      "metadata": {
        "id": "zhDkOwSut-Ej",
        "colab_type": "code",
        "colab": {}
      },
      "source": [
        "DATA_model=DecisionTreeClassifier(criterion='entropy',max_depth=3)\n",
        "DATA_model.fit(train_set, train_labels)"
      ],
      "execution_count": null,
      "outputs": []
    },
    {
      "cell_type": "code",
      "metadata": {
        "id": "sXWuvBwnt-BQ",
        "colab_type": "code",
        "colab": {}
      },
      "source": [
        "DATA_model.score(test_set,test_labels)"
      ],
      "execution_count": null,
      "outputs": []
    },
    {
      "cell_type": "code",
      "metadata": {
        "id": "ncBjFrxct9-J",
        "colab_type": "code",
        "colab": {}
      },
      "source": [
        "y_predict=DATA_model.predict(test_set)\n",
        "y_predict[:5]"
      ],
      "execution_count": null,
      "outputs": []
    },
    {
      "cell_type": "code",
      "metadata": {
        "id": "26Was321t97Q",
        "colab_type": "code",
        "colab": {}
      },
      "source": [
        "test_set.head(5)"
      ],
      "execution_count": null,
      "outputs": []
    },
    {
      "cell_type": "markdown",
      "metadata": {
        "id": "Fy_sWs87-Bxv",
        "colab_type": "text"
      },
      "source": [
        "### **Naive Bayes**"
      ]
    },
    {
      "cell_type": "code",
      "metadata": {
        "id": "MxONQ54it91V",
        "colab_type": "code",
        "colab": {}
      },
      "source": [
        "naive_model=GaussianNB()\n",
        "naive_model.fit(train_set , train_labels)\n",
        "\n",
        "prediction = naive_model.predict(test_set)\n",
        "naive_model.score(test_set,test_labels)"
      ],
      "execution_count": null,
      "outputs": []
    },
    {
      "cell_type": "markdown",
      "metadata": {
        "id": "GuIvrGLy-Lur",
        "colab_type": "text"
      },
      "source": [
        "### **Random Forest Classifier**"
      ]
    },
    {
      "cell_type": "code",
      "metadata": {
        "id": "jk9RsKk8t9n8",
        "colab_type": "code",
        "colab": {}
      },
      "source": [
        "randomforest_model= RandomForestClassifier(max_depth=2,random_state=0)\n",
        "randomforest_model.fit(train_set,train_labels)"
      ],
      "execution_count": null,
      "outputs": []
    },
    {
      "cell_type": "code",
      "metadata": {
        "id": "AP5SoXEeuomT",
        "colab_type": "code",
        "colab": {}
      },
      "source": [
        "Importance= pd.DataFrame({'Importance': randomforest_model.feature_importances_*100}, index=train_set.columns)\n",
        "Importance.sort_values('Importance',axis=0,ascending=True).plot(kind='barh',color='b',)"
      ],
      "execution_count": null,
      "outputs": []
    },
    {
      "cell_type": "code",
      "metadata": {
        "id": "ggs5oVMSuojO",
        "colab_type": "code",
        "colab": {}
      },
      "source": [
        "predicted_random=randomforest_model.predict(test_set)\n",
        "randomforest_model.score(test_set,test_labels)"
      ],
      "execution_count": null,
      "outputs": []
    },
    {
      "cell_type": "markdown",
      "metadata": {
        "id": "Rlm-iyzR-biQ",
        "colab_type": "text"
      },
      "source": [
        "### **KNN (K - Nearest Neighbour)**"
      ]
    },
    {
      "cell_type": "code",
      "metadata": {
        "id": "qQvILlMzu8GI",
        "colab_type": "code",
        "colab": {}
      },
      "source": [
        "train_set_indep= data.drop(['Experience','ID'],axis=1).drop(labels=\"Personal Loan\",axis=1)\n",
        "train_set_dep=data[\"Personal Loan\"]\n",
        "X=np.array(train_set_indep)\n",
        "Y=np.array(train_set_dep)\n",
        "X_Train= X[ :3500, :]\n",
        "X_Test =X[3501: , :]\n",
        "Y_Train = Y[:3500,]\n",
        "Y_Test = Y[3501: ,]"
      ],
      "execution_count": null,
      "outputs": []
    },
    {
      "cell_type": "code",
      "metadata": {
        "id": "8xXyiLd3u7_u",
        "colab_type": "code",
        "colab": {}
      },
      "source": [
        "knn =KNeighborsClassifier(n_neighbors=21, weights= 'uniform', metric='euclidean')\n",
        "knn.fit(X_Train,Y_Train)\n",
        "predicted = knn.predict(X_Test)\n",
        "from sklearn.metrics import accuracy_score\n",
        "accu = accuracy_score(Y_Test,predicted)\n",
        "print(accu)"
      ],
      "execution_count": null,
      "outputs": []
    },
    {
      "cell_type": "markdown",
      "metadata": {
        "id": "Dgjnt9w_-s13",
        "colab_type": "text"
      },
      "source": [
        "### **MODEL Comparision**"
      ]
    },
    {
      "cell_type": "code",
      "metadata": {
        "id": "M_nDilLpu75d",
        "colab_type": "code",
        "colab": {}
      },
      "source": [
        "from sklearn import model_selection\n",
        "models  = []\n",
        "models.append(('KNN', KNeighborsClassifier()))\n",
        "models.append(('CART',DecisionTreeClassifier()))\n",
        "models.append(('NB',GaussianNB()))\n",
        "models.append(('RF', RandomForestClassifier()))\n",
        "# Evaluating each model in turn\n",
        "results= []\t\n",
        "names = []\n",
        "scoring = 'accuracy'\n",
        "for name, model in models:\n",
        "        kfold = model_selection.KFold(n_splits=10, random_state =12345)\n",
        "        cv_results = model_selection.cross_val_score(model,X,y,cv =kfold , scoring=scoring)\n",
        "        results.append(cv_results)\n",
        "        names.append(name)\n",
        "        msg=\"%s: %f (%f)\" % (name,cv_results.mean() , cv_results.std())\n",
        "        print(msg)\n",
        "# Box Plot Algorithm Comparision   \n",
        "fig = plt.figure()\n",
        "fig.suptitle('Algorithm Comparision')\n",
        "ax = fig.add_subplot(111)\n",
        "plt.boxplot(results)\n",
        "ax.set_xticklabels(names)\n",
        "plt.show()     "
      ],
      "execution_count": null,
      "outputs": []
    },
    {
      "cell_type": "markdown",
      "metadata": {
        "id": "0Iw45T9x-8y1",
        "colab_type": "text"
      },
      "source": [
        "**Conclusion -** It seems that **Decision Tree** algorithm has the highest accuracy .\n",
        "\n",
        "But before choosing it as our final model, let's check some more models."
      ]
    },
    {
      "cell_type": "code",
      "metadata": {
        "id": "-F4UtWrJWZ6w",
        "colab_type": "code",
        "colab": {}
      },
      "source": [
        "X = data.drop(['ID','Age','ZIP Code','Personal Loan','CreditCard'], axis= 1)\n",
        "y=data['Personal Loan']\n",
        "X"
      ],
      "execution_count": null,
      "outputs": []
    },
    {
      "cell_type": "code",
      "metadata": {
        "id": "LaDmX-3kNiwV",
        "colab_type": "code",
        "colab": {}
      },
      "source": [
        "# Split the Data into Test and Train Dataset\n",
        "\n",
        "X_train, X_test,y_train,y_test = train_test_split(X,y , test_size= 0.3, random_state=1234)\n",
        "\n",
        "print('Number of 0s in Train Dataset : ', y_train.value_counts()[0])\n",
        "print('Numberof 1s in Train dataset : ', y_train.value_counts()[1])\n",
        "print('--------------')\n",
        "print('Number of 0s in Test Dataset : ', y_test.value_counts()[0])\n",
        "print('Number of 1s in Test Dataset : ', y_test.value_counts()[1])\n",
        "\n",
        "X_train= X_train.apply(zscore)\n",
        "X_test= X_test.apply(zscore)"
      ],
      "execution_count": null,
      "outputs": []
    },
    {
      "cell_type": "code",
      "metadata": {
        "id": "X2suXOzrOu-U",
        "colab_type": "code",
        "colab": {}
      },
      "source": [
        "# Function to print the different metrics such as Confusion matrix , roc, Accuracy, Precision , Recall etc\n",
        "\n",
        "def printModelMetrics(model , X_train , X_test , y_train , y_test):\n",
        "    y_train_pred = model.predict(X_train)\n",
        "    y_test_pred = model.predict(X_test)\n",
        "    print('Train set accuracy = ' , metrics.accuracy_score(y_train,y_train_pred))\n",
        "    print('Test set accuracy = ' , metrics.accuracy_score(y_test , y_test_pred))\n",
        "    print(metrics.classification_report(y_test, y_test_pred))\n",
        "\n",
        "    cm = metrics.confusion_matrix(y_test , y_test_pred)\n",
        "    cm = pd.DataFrame(cm,columns=['Predicted No Loan','Predicted Loan'], index=['Truth No Loan', 'Truth Loan'])\n",
        "    sns.heatmap(cm, annot = True ,fmt ='g', cbar=False)\n",
        "    plt.show()\n",
        "\n",
        "    y_test_proba = model.predict_proba(X_test)\n",
        "    y_test_proba = y_test_proba[:,1]\n",
        "# Generate a no Skill Prediction (Majority Class)\n",
        "    ns_probs = [0 for _ in range(len(y_test))]\n",
        "  # Calculate Scores\n",
        "    ns_auc = metrics.roc_auc_score(y_test, ns_probs)\n",
        "    lr_auc = metrics.roc_auc_score(y_test , y_test_proba)\n",
        "  # Summarize Scores\n",
        "    print('ROC AUC = %.3f' % (lr_auc))\n",
        "  # Calculate roc Curves\n",
        "    ns_fpr, ns_tpr, _ = metrics.roc_curve(y_test,ns_probs)\n",
        "    lr_fpr, lr_tpr, _ = metrics.roc_curve(y_test, y_test_proba)\n",
        "  # Plot the roc Curve for the Model\n",
        "    plt.plot(ns_fpr,ns_tpr,linestyle='--',label='No Skill')\n",
        "    plt.plot(lr_fpr,lr_tpr,marker='.',label='Model Skill')\n",
        "  # Axis Labels\n",
        "    plt.xlabel('False Positive Rate')\n",
        "    plt.ylabel('True Positive Rate')\n",
        "  # Show the legend\n",
        "    plt.legend()\n",
        "  # Show the Plot\n",
        "    plt.show()"
      ],
      "execution_count": null,
      "outputs": []
    },
    {
      "cell_type": "markdown",
      "metadata": {
        "id": "twTyX7kD_yO5",
        "colab_type": "text"
      },
      "source": [
        "### **Logistic Regression**"
      ]
    },
    {
      "cell_type": "code",
      "metadata": {
        "id": "zUm0ptKuU365",
        "colab_type": "code",
        "colab": {}
      },
      "source": [
        "lr_model = LogisticRegression(solver='liblinear')\n",
        "lr_model.fit(X_train, y_train)\n",
        "printModelMetrics(lr_model, X_train, X_test, y_train, y_test)"
      ],
      "execution_count": null,
      "outputs": []
    },
    {
      "cell_type": "markdown",
      "metadata": {
        "id": "4qhPLDulAS7G",
        "colab_type": "text"
      },
      "source": [
        "Test Accuracy is 94% .\n",
        "\n",
        "We observe that the recall of customers who opted the Loan(target) is very less(54%) , i.e. we predicted 46% of the people to be Non Loan takers when they actually took Loan. This affetcs the marketing campaign and should be reduced."
      ]
    },
    {
      "cell_type": "markdown",
      "metadata": {
        "id": "9SnwNfBeALTq",
        "colab_type": "text"
      },
      "source": [
        "### **Naive Bayes**"
      ]
    },
    {
      "cell_type": "code",
      "metadata": {
        "id": "2UNZZTjme5Cq",
        "colab_type": "code",
        "colab": {}
      },
      "source": [
        "nb_model = BernoulliNB()\n",
        "\n",
        "nb_model.fit(X_train ,y_train)\n",
        "printModelMetrics(lr_model, X_train,X_test,y_train,y_test)"
      ],
      "execution_count": null,
      "outputs": []
    },
    {
      "cell_type": "markdown",
      "metadata": {
        "id": "-fAQHm2LBOpr",
        "colab_type": "text"
      },
      "source": [
        "### **KNN (K - Nearest Neighbour)**"
      ]
    },
    {
      "cell_type": "code",
      "metadata": {
        "id": "q5GCojEFfOCR",
        "colab_type": "code",
        "colab": {}
      },
      "source": [
        "X_trainScaled =X_train.apply(zscore)\n",
        "X_testScaled = X_test.apply(zscore)\n",
        "model = KNeighborsClassifier(n_neighbors=20,weights='distance')\n",
        "model.fit(X_trainScaled,y_train)\n",
        "printModelMetrics(model,X_trainScaled,X_testScaled,y_train,y_test)"
      ],
      "execution_count": null,
      "outputs": []
    },
    {
      "cell_type": "markdown",
      "metadata": {
        "id": "Jr5Fp8qfBfQ4",
        "colab_type": "text"
      },
      "source": [
        "### **SVM**"
      ]
    },
    {
      "cell_type": "code",
      "metadata": {
        "id": "n2DMJDeTh4Ms",
        "colab_type": "code",
        "colab": {}
      },
      "source": [
        "model = svm.SVC(gamma = 0.025 , C=3 , probability=True)\n",
        "model.fit(X_train,y_train)\n",
        "printModelMetrics(model,X_train,X_test,y_train,y_test)"
      ],
      "execution_count": null,
      "outputs": []
    },
    {
      "cell_type": "markdown",
      "metadata": {
        "id": "NyYexBWxBlvM",
        "colab_type": "text"
      },
      "source": [
        "The highest recall we could get was 68% with an accuracy of 96% from SVM Model.\n",
        "\n",
        "Let's try to improve our models. Initially we observed that the data was highly imbalanced with majority people as Non Loan customers. Let's balance this data by oversampling the loan classes and then rebuild the models."
      ]
    },
    {
      "cell_type": "code",
      "metadata": {
        "id": "UHvvDiqEhlZa",
        "colab_type": "code",
        "colab": {}
      },
      "source": [
        "# Oversampling the positive classes in the Data\n",
        "\n",
        "# Separating Majority and Minority Classes\n",
        "df_majority = data[data['Personal Loan']==0]\n",
        "df_minority = data[data['Personal Loan']==1]\n",
        "\n",
        "# Unsample Minority Classes\n",
        "df_minority_upsampled = resample(df_minority, replace =True , n_samples = df_majority.shape[0], random_state =123)\n",
        "df_upsampled = pd.concat([df_majority,df_minority_upsampled])\n",
        "df_upsampled['Personal Loan'].value_counts()\n",
        "X= df_upsampled.drop(['ID','ZIP Code','Personal Loan','Experience'],axis=1)\n",
        "y= df_upsampled['Personal Loan']\n",
        "X_train, X_test,y_train,y_test= train_test_split(X,y,test_size=0.3,random_state=1)\n",
        "\n",
        "print('Number of 0s in Train Dataset : ' , y_train.value_counts()[0])\n",
        "print('Number of 1s in Train Dataset  : ' , y_train.value_counts()[1])\n",
        "print('--------------')\n",
        "print('Number of 0s in Test Dataset : ', y_test.value_counts()[0])\n",
        "print('Number of 1s in Test Dtataset :', y_test.value_counts()[1])"
      ],
      "execution_count": null,
      "outputs": []
    },
    {
      "cell_type": "markdown",
      "metadata": {
        "id": "IvOIUxS5Iu-Z",
        "colab_type": "text"
      },
      "source": [
        "### **Logistic Regression**"
      ]
    },
    {
      "cell_type": "code",
      "metadata": {
        "id": "xaBzwbhQqtmu",
        "colab_type": "code",
        "colab": {}
      },
      "source": [
        "lr_model = LogisticRegression(solver = 'liblinear')\n",
        "lr_model.fit(X_train, y_train)\n",
        "printModelMetrics(lr_model, X_train , X_test, y_train , y_test)"
      ],
      "execution_count": null,
      "outputs": []
    },
    {
      "cell_type": "markdown",
      "metadata": {
        "id": "49vIMT0kI6zG",
        "colab_type": "text"
      },
      "source": [
        "### **Naive Bayes**"
      ]
    },
    {
      "cell_type": "code",
      "metadata": {
        "id": "aFJwsj4frMwg",
        "colab_type": "code",
        "colab": {}
      },
      "source": [
        "nb_model = BernoulliNB()\n",
        "nb_model.fit(X_train, y_train)\n",
        "printModelMetrics(lr_model , X_train , X_test , y_train, y_test)"
      ],
      "execution_count": null,
      "outputs": []
    },
    {
      "cell_type": "markdown",
      "metadata": {
        "id": "Z3boa9szJDWI",
        "colab_type": "text"
      },
      "source": [
        "### **KNN (K - Nearest Neighbour)**"
      ]
    },
    {
      "cell_type": "code",
      "metadata": {
        "id": "hWiDA0utrmOf",
        "colab_type": "code",
        "colab": {}
      },
      "source": [
        "X_trainScaled =X_train.apply(zscore)\n",
        "X_testScaled = X_test.apply(zscore)\n",
        "model = KNeighborsClassifier(n_neighbors=20,weights='distance')\n",
        "model.fit(X_trainScaled,y_train)\n",
        "printModelMetrics(model,X_trainScaled,X_testScaled,y_train,y_test)"
      ],
      "execution_count": null,
      "outputs": []
    },
    {
      "cell_type": "markdown",
      "metadata": {
        "id": "Aakw-PIBJFEQ",
        "colab_type": "text"
      },
      "source": [
        "### **SVM**"
      ]
    },
    {
      "cell_type": "code",
      "metadata": {
        "id": "bOa3f1mgsBFZ",
        "colab_type": "code",
        "colab": {}
      },
      "source": [
        "model = svm.SVC(gamma=0.2,C=5,probability=True)\n",
        "model.fit(X_train,y_train)\n",
        "printModelMetrics(model,X_train,X_test,y_train,y_test)"
      ],
      "execution_count": null,
      "outputs": []
    },
    {
      "cell_type": "markdown",
      "metadata": {
        "id": "ckOO1ixdXcn8",
        "colab_type": "text"
      },
      "source": [
        "### **Conclusion -** The aim of the universal bank is to convert there liability customers into Loan customers. They want to set up  new marketing campaign; hence they need information about the connection between the variables given in the Data. From th various algorithms used ,  With the recall of 100% and Accuracy of 99.5% , **SVM** is definitely the best model to chooose for our campaign ."
      ]
    }
  ]
}